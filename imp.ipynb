{
 "cells": [
  {
   "cell_type": "code",
   "execution_count": 2,
   "id": "6ce11936",
   "metadata": {},
   "outputs": [],
   "source": [
    "\n",
    "import cv2\n",
    "import numpy as np\n",
    "import smtplib\n",
    "import playsound\n",
    "import threading\n",
    "\n",
    "Alarm_Status = False\n",
    "Email_Status = False\n",
    "Fire_Reported = 0\n"
   ]
  },
  {
   "cell_type": "code",
   "execution_count": 3,
   "id": "d00dc3a6",
   "metadata": {},
   "outputs": [
    {
     "name": "stdout",
     "output_type": "stream",
     "text": [
      "email\n",
      "sent to sarthak.paliwal7@gmail.com\n"
     ]
    }
   ],
   "source": [
    "\n",
    "# def play_alarm_sound_function():\n",
    "# \twhile True:\n",
    "# \t\tplaysound.playsound('/home/tayatu/Downloads/alarm-sound.mp3',True)\n",
    "\n",
    "def send_mail_function():\n",
    "    recipientEmail = \"sarthak.paliwal7@gmail.com\"\n",
    "    print(\"email\")\n",
    "    recipientEmail = recipientEmail.lower()\n",
    "\n",
    "    try:\n",
    "        server = smtplib.SMTP('smtp.gmail.com', 587)\n",
    "        server.ehlo()\n",
    "        server.starttls()\n",
    "        server.login(\"iec2019090@iiita.ac.in\", 'qvymymhjjisxzpqx')\n",
    "        server.sendmail('iec2019090@iiita.ac.in', recipientEmail, \"Warning A Fire Accident has been reported on ABC Company\")\n",
    "        print(\"sent to {}\".format(recipientEmail))\n",
    "        server.close()\n",
    "    except Exception as e:\n",
    "    \tprint(e)\n",
    "\n",
    "\n",
    "video = cv2.VideoCapture(\"/home/tayatu/Downloads/demo.mp4\") # If you want to use webcam use Index like 0,1.\n",
    "\n",
    "while True:\n",
    "    (grabbed, frame) = video.read()\n",
    "    if not grabbed:\n",
    "        break\n",
    "\n",
    "    frame = cv2.resize(frame, (960, 540))\n",
    "\n",
    "    blur = cv2.GaussianBlur(frame, (21, 21), 0)\n",
    "    hsv = cv2.cvtColor(blur, cv2.COLOR_BGR2HSV)\n",
    "\n",
    "    lower = [18, 50, 50]\n",
    "    upper = [35, 255, 255]\n",
    "    lower = np.array(lower, dtype=\"uint8\")\n",
    "    upper = np.array(upper, dtype=\"uint8\")\n",
    "\n",
    "    mask = cv2.inRange(hsv, lower, upper)\n",
    "\n",
    "    output = cv2.bitwise_and(frame, hsv, mask=mask)\n",
    "\n",
    "    no_red = cv2.countNonZero(mask)\n",
    "    if int(no_red) > 3000:\n",
    "        Fire_Reported = Fire_Reported + 1\n",
    "\n",
    "    cv2.imshow(\"output\", output)\n",
    "\n",
    "    if Fire_Reported >= 1:\n",
    "\n",
    "#     \tif Alarm_Status == False:\n",
    "#     \t\tthreading.Thread(target=play_alarm_sound_function).start()\n",
    "#     \t\tAlarm_Status = True\n",
    "\n",
    "        \n",
    "    \tif Email_Status == False:\n",
    "    \t\tthreading.Thread(target=send_mail_function).start()\n",
    "    \t\tEmail_Status = True\n",
    "            \n",
    "\n",
    "\n",
    "    if cv2.waitKey(1) & 0xFF == ord('q'):\n",
    "        break\n",
    "\n",
    "cv2.destroyAllWindows()\n",
    "video.release()"
   ]
  }
 ],
 "metadata": {
  "kernelspec": {
   "display_name": "Python 3 (ipykernel)",
   "language": "python",
   "name": "python3"
  },
  "language_info": {
   "codemirror_mode": {
    "name": "ipython",
    "version": 3
   },
   "file_extension": ".py",
   "mimetype": "text/x-python",
   "name": "python",
   "nbconvert_exporter": "python",
   "pygments_lexer": "ipython3",
   "version": "3.10.6"
  }
 },
 "nbformat": 4,
 "nbformat_minor": 5
}
